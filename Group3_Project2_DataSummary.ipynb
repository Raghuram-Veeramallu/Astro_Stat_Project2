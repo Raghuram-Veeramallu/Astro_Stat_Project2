{
  "nbformat": 4,
  "nbformat_minor": 0,
  "metadata": {
    "colab": {
      "provenance": [],
      "authorship_tag": "ABX9TyO9K6dNGNqAnQ5L6wARHPia",
      "include_colab_link": true
    },
    "kernelspec": {
      "name": "python3",
      "display_name": "Python 3"
    },
    "language_info": {
      "name": "python"
    }
  },
  "cells": [
    {
      "cell_type": "markdown",
      "metadata": {
        "id": "view-in-github",
        "colab_type": "text"
      },
      "source": [
        "<a href=\"https://colab.research.google.com/github/Raghuram-Veeramallu/Astro_Stat_Project2/blob/development/Group3_Project2_DataSummary.ipynb\" target=\"_parent\"><img src=\"https://colab.research.google.com/assets/colab-badge.svg\" alt=\"Open In Colab\"/></a>"
      ]
    },
    {
      "cell_type": "markdown",
      "source": [
        "## AST/STAT 5731 Project 2\n",
        "### Research Synopsis\n",
        "**Group 3**   \n",
        "Daniel Warshofsky  \n",
        "Hari Veeramallu  \n",
        "Jacynda Alatoma  \n",
        "Nicholas Kruegler"
      ],
      "metadata": {
        "id": "PIpGgES8UlDa"
      }
    },
    {
      "cell_type": "markdown",
      "source": [
        "#### Research Question\n",
        "\n",
        "*Synopsis here*\n"
      ],
      "metadata": {
        "id": "_0AjjgsMUj0h"
      }
    },
    {
      "cell_type": "markdown",
      "source": [
        "### Preamble"
      ],
      "metadata": {
        "id": "ypkCx8qZVr0l"
      }
    },
    {
      "cell_type": "markdown",
      "source": [
        "### Data"
      ],
      "metadata": {
        "id": "ZCdv_TKHVucp"
      }
    },
    {
      "cell_type": "code",
      "source": [
        "import pandas as pd\n",
        "import matplotlib.pyplot as plt"
      ],
      "metadata": {
        "id": "-K7nMMZTVpj8"
      },
      "execution_count": null,
      "outputs": []
    },
    {
      "cell_type": "code",
      "source": [
        "# download the dataset to colab / local environment\n",
        "\n",
        "## for google colab\n",
        "!gdown 1LZts3qmmXzULOUMvNC97jIE9funj_BoK\n",
        "\n",
        "## for local environment\n",
        "# !gdown https://drive.google.com/uc?id=1LZts3qmmXzULOUMvNC97jIE9funj_BoK"
      ],
      "metadata": {
        "id": "Iz1k8dkNV2CT"
      },
      "execution_count": null,
      "outputs": []
    }
  ]
}