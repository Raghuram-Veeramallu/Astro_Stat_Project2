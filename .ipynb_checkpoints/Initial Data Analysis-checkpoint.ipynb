{
 "cells": [
  {
   "cell_type": "markdown",
   "id": "e61e0973",
   "metadata": {},
   "source": [
    "## Project 2\n",
    "### Group 3"
   ]
  },
  {
   "cell_type": "markdown",
   "id": "467f5db8",
   "metadata": {},
   "source": [
    "Project Question"
   ]
  },
  {
   "cell_type": "code",
   "execution_count": 1,
   "id": "09fb7abf",
   "metadata": {},
   "outputs": [
    {
     "name": "stderr",
     "output_type": "stream",
     "text": [
      "WARNING (pytensor.tensor.blas): Using NumPy C-API based implementation for BLAS functions.\n"
     ]
    }
   ],
   "source": [
    "import pandas as pd\n",
    "import numpy as np\n",
    "import matplotlib.pyplot as plt\n",
    "import scipy.stats as stats\n",
    "import pymc as pm\n",
    "import arviz as az"
   ]
  },
  {
   "cell_type": "code",
   "execution_count": 2,
   "id": "2f13d6bd",
   "metadata": {},
   "outputs": [],
   "source": [
    "# Downloading data\n",
    "df = pd.read_csv(\"Supernovae light-curve parameters.csv\")"
   ]
  },
  {
   "cell_type": "code",
   "execution_count": 4,
   "id": "6c61b724",
   "metadata": {},
   "outputs": [
    {
     "data": {
      "text/html": [
       "<div>\n",
       "<style scoped>\n",
       "    .dataframe tbody tr th:only-of-type {\n",
       "        vertical-align: middle;\n",
       "    }\n",
       "\n",
       "    .dataframe tbody tr th {\n",
       "        vertical-align: top;\n",
       "    }\n",
       "\n",
       "    .dataframe thead th {\n",
       "        text-align: right;\n",
       "    }\n",
       "</style>\n",
       "<table border=\"1\" class=\"dataframe\">\n",
       "  <thead>\n",
       "    <tr style=\"text-align: right;\">\n",
       "      <th></th>\n",
       "      <th>CMB_frame_redshift</th>\n",
       "      <th>heliocentric_redshift</th>\n",
       "      <th>B_band_peak_magnitude_mb</th>\n",
       "      <th>error_in_mb</th>\n",
       "    </tr>\n",
       "  </thead>\n",
       "  <tbody>\n",
       "    <tr>\n",
       "      <th>489</th>\n",
       "      <td>0.205</td>\n",
       "      <td>0.2064</td>\n",
       "      <td>21.182</td>\n",
       "      <td>0.131</td>\n",
       "    </tr>\n",
       "    <tr>\n",
       "      <th>88</th>\n",
       "      <td>0.806</td>\n",
       "      <td>0.8050</td>\n",
       "      <td>24.394</td>\n",
       "      <td>0.106</td>\n",
       "    </tr>\n",
       "    <tr>\n",
       "      <th>412</th>\n",
       "      <td>0.177</td>\n",
       "      <td>0.1780</td>\n",
       "      <td>20.913</td>\n",
       "      <td>0.114</td>\n",
       "    </tr>\n",
       "    <tr>\n",
       "      <th>123</th>\n",
       "      <td>0.063</td>\n",
       "      <td>0.0644</td>\n",
       "      <td>17.798</td>\n",
       "      <td>0.140</td>\n",
       "    </tr>\n",
       "    <tr>\n",
       "      <th>128</th>\n",
       "      <td>0.034</td>\n",
       "      <td>0.0346</td>\n",
       "      <td>16.969</td>\n",
       "      <td>0.140</td>\n",
       "    </tr>\n",
       "    <tr>\n",
       "      <th>205</th>\n",
       "      <td>0.364</td>\n",
       "      <td>0.3650</td>\n",
       "      <td>22.060</td>\n",
       "      <td>0.128</td>\n",
       "    </tr>\n",
       "    <tr>\n",
       "      <th>519</th>\n",
       "      <td>0.300</td>\n",
       "      <td>0.3009</td>\n",
       "      <td>21.702</td>\n",
       "      <td>0.129</td>\n",
       "    </tr>\n",
       "    <tr>\n",
       "      <th>302</th>\n",
       "      <td>0.135</td>\n",
       "      <td>0.1363</td>\n",
       "      <td>20.462</td>\n",
       "      <td>0.113</td>\n",
       "    </tr>\n",
       "    <tr>\n",
       "      <th>15</th>\n",
       "      <td>0.021</td>\n",
       "      <td>0.0201</td>\n",
       "      <td>15.876</td>\n",
       "      <td>0.146</td>\n",
       "    </tr>\n",
       "    <tr>\n",
       "      <th>61</th>\n",
       "      <td>0.283</td>\n",
       "      <td>0.2820</td>\n",
       "      <td>22.152</td>\n",
       "      <td>0.086</td>\n",
       "    </tr>\n",
       "  </tbody>\n",
       "</table>\n",
       "</div>"
      ],
      "text/plain": [
       "     CMB_frame_redshift  heliocentric_redshift  B_band_peak_magnitude_mb  \\\n",
       "489               0.205                 0.2064                    21.182   \n",
       "88                0.806                 0.8050                    24.394   \n",
       "412               0.177                 0.1780                    20.913   \n",
       "123               0.063                 0.0644                    17.798   \n",
       "128               0.034                 0.0346                    16.969   \n",
       "205               0.364                 0.3650                    22.060   \n",
       "519               0.300                 0.3009                    21.702   \n",
       "302               0.135                 0.1363                    20.462   \n",
       "15                0.021                 0.0201                    15.876   \n",
       "61                0.283                 0.2820                    22.152   \n",
       "\n",
       "     error_in_mb  \n",
       "489        0.131  \n",
       "88         0.106  \n",
       "412        0.114  \n",
       "123        0.140  \n",
       "128        0.140  \n",
       "205        0.128  \n",
       "519        0.129  \n",
       "302        0.113  \n",
       "15         0.146  \n",
       "61         0.086  "
      ]
     },
     "execution_count": 4,
     "metadata": {},
     "output_type": "execute_result"
    }
   ],
   "source": [
    "df.sample(10)"
   ]
  },
  {
   "cell_type": "markdown",
   "id": "c373d329",
   "metadata": {},
   "source": [
    "## Will need to convert the magnitude to distance since right now it's looking like a logarithmic graph"
   ]
  },
  {
   "cell_type": "code",
   "execution_count": 5,
   "id": "4617119a",
   "metadata": {},
   "outputs": [
    {
     "data": {
      "text/plain": [
       "<function matplotlib.pyplot.show(close=None, block=None)>"
      ]
     },
     "execution_count": 5,
     "metadata": {},
     "output_type": "execute_result"
    },
    {
     "data": {
      "image/png": "[encoded data removed]",
      "text/plain": [
       "<Figure size 640x480 with 1 Axes>"
      ]
     },
     "metadata": {},
     "output_type": "display_data"
    }
   ],
   "source": [
    "# Creating scatterplots for both redshifts v. magnitude\n",
    "x = df[\"CMB_frame_redshift\"]\n",
    "y = df[\"B_band_peak_magnitude_mb\"]\n",
    "\n",
    "plt.scatter(x, y)\n",
    "plt.show"
   ]
  },
  {
   "cell_type": "code",
   "execution_count": 6,
   "id": "b839de19",
   "metadata": {},
   "outputs": [
    {
     "data": {
      "text/plain": [
       "<function matplotlib.pyplot.show(close=None, block=None)>"
      ]
     },
     "execution_count": 6,
     "metadata": {},
     "output_type": "execute_result"
    },
    {
     "data": {
      "image/png": "[encoded data removed]",
      "text/plain": [
       "<Figure size 640x480 with 1 Axes>"
      ]
     },
     "metadata": {},
     "output_type": "display_data"
    }
   ],
   "source": [
    "x = df[\"heliocentric_redshift\"]\n",
    "y = df[\"B_band_peak_magnitude_mb\"]\n",
    "\n",
    "plt.scatter(x, y)\n",
    "plt.show"
   ]
  },
  {
   "cell_type": "code",
   "execution_count": null,
   "id": "85baebd7",
   "metadata": {},
   "outputs": [],
   "source": []
  }
 ],
 "metadata": {
  "kernelspec": {
   "display_name": "Python 3 (ipykernel)",
   "language": "python",
   "name": "python3"
  },
  "language_info": {
   "codemirror_mode": {
    "name": "ipython",
    "version": 3
   },
   "file_extension": ".py",
   "mimetype": "text/x-python",
   "name": "python",
   "nbconvert_exporter": "python",
   "pygments_lexer": "ipython3",
   "version": "3.11.4"
  }
 },
 "nbformat": 4,
 "nbformat_minor": 5
}
